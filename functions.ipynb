{
 "cells": [
  {
   "cell_type": "markdown",
   "id": "c207b395-af52-45ba-a14f-c218b84131a6",
   "metadata": {},
   "source": [
    "Question-1 What is the difference between a function and a method in Python?\n",
    "\n",
    "- A block of code that performs a specific task and is defined using the def keyword\n",
    "\n",
    "- A function that is associated with an object (usually a class instance) and operates on that object’s data.\n",
    "\n",
    "Aspect\t   -------------------       Function\t                   -------------------------             Method\n",
    " \n",
    "Association\t  ----------not tied to any object\t----------     Associated with a class or object\n",
    "\n",
    "Call\t       ------------------ Called directly\t                   ------------  Called on an object (e.g., obj.method)"
   ]
  },
  {
   "cell_type": "markdown",
   "id": "6fad505d-45f8-40ed-94a2-35ff6653c9ba",
   "metadata": {},
   "source": [
    "Question-2 Explain the concept of function arguments and parameters in Python?\n",
    "\n",
    "- Parameters are the variables listed in a function's definition. They act as placeholders that specify what kind of data the function expects when called.\n",
    "\n",
    "- Arguments are the actual values passed to a function when it is called. They replace the parameters in the function definition."
   ]
  },
  {
   "cell_type": "markdown",
   "id": "924cd5ff-ead3-49fb-8e92-470002e6903a",
   "metadata": {},
   "source": [
    "Question-3 What are the different ways to define and call a function in Python?\n"
   ]
  },
  {
   "cell_type": "code",
   "execution_count": 2,
   "id": "30208baa-95c0-4a08-853d-9f75d5925361",
   "metadata": {},
   "outputs": [
    {
     "name": "stdout",
     "output_type": "stream",
     "text": [
      "hello world , my name is abhi\n"
     ]
    },
    {
     "data": {
      "text/plain": [
       "('pw', 'skills')"
      ]
     },
     "execution_count": 2,
     "metadata": {},
     "output_type": "execute_result"
    }
   ],
   "source": [
    "#answer \n",
    "# syntax of function \n",
    "def num(name):\n",
    "    print ('hello world , my name is',name)\n",
    "\n",
    " # call a function\n",
    "num('abhi')\n",
    "\n",
    "\n",
    "# function default agrument\n",
    "def sum(a,b,c=2):\n",
    "    return (a+b+c)\n",
    "\n",
    "#call a function\n",
    "sum(2,2,3)\n",
    "\n",
    "\n",
    "# function with postional argument\n",
    "def name(w,e):\n",
    "    return w,e\n",
    "\n",
    "\n",
    "#call a function\n",
    "name('pw','skills')\n"
   ]
  },
  {
   "cell_type": "markdown",
   "id": "97b1465c-c1cc-41d2-af23-79a24c4f57e5",
   "metadata": {},
   "source": [
    "Question-4 What is the purpose of the `return` statement in a Python function?\n",
    "\n",
    "- 'Return' statement basically return the output back to the part of program that called it.\n",
    "\n",
    "- Communication: Allows functions to send results back to the calling code.\n",
    "  \n",
    "- Reusability: Enables creating modular and reusable functions that can be used in different contexts."
   ]
  },
  {
   "cell_type": "markdown",
   "id": "7cd38fce-9485-4ce4-950e-73e096ab6b24",
   "metadata": {},
   "source": [
    "Question-5 What are iterators in Python and how do they differ from iterables?\n",
    "\n",
    "- An iterable is an object that contains a collection of elements and can be iterated (looped) over.\n",
    "\n",
    "-  An iterator is an object that enables sequential access to elements in an iterable. It keeps track of its current position and provides the next value when requested using the next() function."
   ]
  },
  {
   "cell_type": "markdown",
   "id": "0e9df3cf-0d19-4052-aa85-cb8d2acc0acc",
   "metadata": {},
   "source": [
    "Question-6 Explain the concept of generators in Python and how they are defined.\n",
    "\n",
    "- Generators are defined like regular functions but use the yield keyword instead of return.\n"
   ]
  },
  {
   "cell_type": "code",
   "execution_count": 3,
   "id": "a533e3c0-31c0-42bd-9628-8457d405f70e",
   "metadata": {},
   "outputs": [
    {
     "data": {
      "text/plain": [
       "<generator object my_gen at 0x0000020DDF54C6C0>"
      ]
     },
     "execution_count": 3,
     "metadata": {},
     "output_type": "execute_result"
    }
   ],
   "source": [
    "# answer\n",
    "def my_gen():\n",
    "    for i in range(1, 4):\n",
    "        yield i\n",
    "\n",
    "my_gen()"
   ]
  },
  {
   "cell_type": "code",
   "execution_count": null,
   "id": "a0b31171-5b88-46df-82aa-69d689e7b611",
   "metadata": {},
   "outputs": [],
   "source": []
  },
  {
   "cell_type": "markdown",
   "id": "4d8c28fc-3bce-4c79-83d8-f03d8f5fc0a9",
   "metadata": {},
   "source": [
    "Question-7 What are the advantages of using generators over regular functions?\n",
    "\n",
    "Memory Usage     \n",
    "- Produces items lazily (low memory use) - Generator\n",
    "- Returns all data at once (high memory) - Regular Function\n",
    "\n",
    "Evaluation\t      \n",
    "- Lazy (on demand) - Generator\n",
    "- Eager (immediate computation) - Regular Function\n",
    "\n",
    "Efficiency\t      \n",
    "- Faster for large data or pipelines - Generator\n",
    "- Slower due to data storage overhead - Regular Function\n",
    "\n",
    "Infinite Sequences\n",
    "- Easily handles infinite data - Generator\n",
    "- Requires special handling - Regular Function\n",
    "\n",
    "Code Simplicity\t   \n",
    "- Clean and concise with yield - Generator\n",
    "- May require complex logic - Regular Function"
   ]
  },
  {
   "cell_type": "markdown",
   "id": "b78ec6dc-61d9-4156-acb4-d4b4a5ed1f19",
   "metadata": {},
   "source": [
    "Question-8 What is a lambda function in Python and when is it typically used?\n",
    "\n",
    "- A lambda function is a small, anonymous function defined using the lambda keyword. It can have any number of arguments but only one expression.\n",
    "\n",
    "- When you need a simple function for a short task and don't want to formally define a function with def.\n",
    "\n",
    "- Lambda functions are often used when a function is required as an argument to other functions, especially in functions like map(), filter(), and sorted().\n",
    "\n",
    "- When a function is needed temporarily and does not need to be reused elsewhere, a lambda provides a concise way to express it.\n",
    "\n",
    "\n"
   ]
  },
  {
   "cell_type": "markdown",
   "id": "ccb1bef6-6ed6-4b49-9785-2655f49d2c72",
   "metadata": {},
   "source": [
    "Question-9 Explain the purpose and usage of the `map()` function in Python?\n",
    "\n",
    "- The main purpose of map() is to transform each element of an iterable by applying a function to it.\n",
    "\n",
    "- It helps avoid writing loops explicitly for transformations."
   ]
  },
  {
   "cell_type": "markdown",
   "id": "da7457a0-f281-4f7d-b1dd-2c22c8e08b2e",
   "metadata": {},
   "source": [
    "Question-10 What is the difference between map(), reduce() , and filter() functions in Python?\n",
    "\n",
    "map() \t\n",
    "\n",
    "- Purpose - Applies a function to each item in an iterable\n",
    "- Output - Transformed iterable (e.g., list, map object)\t\n",
    "- Use Cases - Transform or modify each element in a collection\n",
    "  \n",
    "reduce()\n",
    "\n",
    "- Purpose - Applies a function cumulatively to combine items in an iterable\n",
    "- Output - A single accumulated value\t\n",
    "- Use Cases - Reduce a collection into a single result\n",
    "  \n",
    "filter()\n",
    "\t\n",
    "- Purpose - Filters elements of an iterable based on a condition\t\n",
    "- Output - Filtered iterable (e.g., list, filter object)\t\n",
    "- Use Cases - Keep only elements that satisfy a condition"
   ]
  },
  {
   "cell_type": "markdown",
   "id": "34e5dc94-a9c0-4035-8e32-72db8aabba53",
   "metadata": {},
   "source": [
    "Question-11 Using pen & Paper write the internal mechanism for sum operation using  reduce function on this given\n",
    "list:[47,11,42,13];\n",
    "\n",
    "https://drive.google.com/file/d/1pmsozBs6qwLUlAPWF7-VeGHUTYx6OROG/view?usp=sharing\n",
    "\n",
    "\n"
   ]
  },
  {
   "cell_type": "markdown",
   "id": "3ce153ba-77b0-4dfe-a0fe-b485655a9661",
   "metadata": {},
   "source": [
    "## Practical Question"
   ]
  },
  {
   "cell_type": "markdown",
   "id": "144cd20b-a302-48e2-bae8-bb0b78f116a7",
   "metadata": {},
   "source": [
    "Question-1 Write a Python function that takes a list of numbers as input and returns the sum of all even numbers in\n",
    "the list."
   ]
  },
  {
   "cell_type": "code",
   "execution_count": 1,
   "id": "7705a644-ed28-40ed-b109-fd823a2f8023",
   "metadata": {},
   "outputs": [
    {
     "name": "stdout",
     "output_type": "stream",
     "text": [
      "Sum of even numbers: 68\n"
     ]
    }
   ],
   "source": [
    "#Answer\n",
    "def sum_even_numbers(numbers):\n",
    "    # Use a list comprehension to filter even numbers and then sum them\n",
    "    return sum(num for num in numbers if num % 2 == 0)\n",
    "\n",
    "# Example usage\n",
    "numbers = [47, 11, 42, 13, 8, 18]\n",
    "result = sum_even_numbers(numbers)\n",
    "print(\"Sum of even numbers:\", result)\n",
    "\n"
   ]
  },
  {
   "cell_type": "markdown",
   "id": "a3b60d17-5d36-49e8-8035-6fe4ab6b0b12",
   "metadata": {},
   "source": [
    "Question-2 Create a Python function that accepts a string and returns the reverse of that string"
   ]
  },
  {
   "cell_type": "code",
   "execution_count": null,
   "id": "ea7fcf4b-b9a8-49f4-bdf0-66ac6f809847",
   "metadata": {},
   "outputs": [],
   "source": [
    "def string(name):\n",
    "    return name[::-1]"
   ]
  },
  {
   "cell_type": "code",
   "execution_count": null,
   "id": "e8f0ea0f-23e4-45a5-a028-76d432282826",
   "metadata": {},
   "outputs": [],
   "source": [
    "string('abhi')"
   ]
  },
  {
   "cell_type": "markdown",
   "id": "328368f4-16a1-4749-b266-738d2044125f",
   "metadata": {},
   "source": [
    "Question-3 Implement a Python function that takes a list of integers and returns a new list containing the squares of\n",
    "each number."
   ]
  },
  {
   "cell_type": "code",
   "execution_count": 4,
   "id": "561bab72-cab4-471c-8304-369f3e892623",
   "metadata": {},
   "outputs": [
    {
     "name": "stdout",
     "output_type": "stream",
     "text": [
      "Original list: [1, 2, 3, 4, 5]\n",
      "Squared list: [1, 4, 9, 16, 25]\n"
     ]
    }
   ],
   "source": [
    "def square_numbers(numbers):\n",
    "    # Use a list comprehension to compute the squares of each number\n",
    "    return [num ** 2 for num in numbers]\n",
    "\n",
    "# Example usage\n",
    "numbers = [1, 2, 3, 4, 5]\n",
    "squared_numbers = square_numbers(numbers)\n",
    "print(\"Original list:\", numbers)\n",
    "print(\"Squared list:\", squared_numbers)\n"
   ]
  },
  {
   "cell_type": "markdown",
   "id": "8f44aa42-022f-497d-9672-d83b03a48baa",
   "metadata": {},
   "source": [
    "Question-4 Write a Python function that checks if a given number is prime or not from 1 to 200"
   ]
  },
  {
   "cell_type": "code",
   "execution_count": 15,
   "id": "546f2c8a-d7ea-471f-acba-81d07a10dd88",
   "metadata": {},
   "outputs": [
    {
     "name": "stdout",
     "output_type": "stream",
     "text": [
      "1 is not a prime number\n",
      "2 is not a prime number\n",
      "3 is a prime number\n",
      "4 is not a prime number\n",
      "5 is a prime number\n",
      "6 is not a prime number\n",
      "7 is a prime number\n",
      "8 is not a prime number\n",
      "9 is not a prime number\n",
      "10 is not a prime number\n",
      "11 is a prime number\n",
      "12 is not a prime number\n",
      "13 is a prime number\n",
      "14 is not a prime number\n",
      "15 is not a prime number\n",
      "16 is not a prime number\n",
      "17 is a prime number\n",
      "18 is not a prime number\n",
      "19 is a prime number\n",
      "20 is not a prime number\n",
      "21 is not a prime number\n",
      "22 is not a prime number\n",
      "23 is a prime number\n",
      "24 is not a prime number\n",
      "25 is not a prime number\n",
      "26 is not a prime number\n",
      "27 is not a prime number\n",
      "28 is not a prime number\n",
      "29 is a prime number\n",
      "30 is not a prime number\n",
      "31 is a prime number\n",
      "32 is not a prime number\n",
      "33 is not a prime number\n",
      "34 is not a prime number\n",
      "35 is not a prime number\n",
      "36 is not a prime number\n",
      "37 is a prime number\n",
      "38 is not a prime number\n",
      "39 is not a prime number\n",
      "40 is not a prime number\n",
      "41 is a prime number\n",
      "42 is not a prime number\n",
      "43 is a prime number\n",
      "44 is not a prime number\n",
      "45 is not a prime number\n",
      "46 is not a prime number\n",
      "47 is a prime number\n",
      "48 is not a prime number\n",
      "49 is not a prime number\n",
      "50 is not a prime number\n",
      "51 is not a prime number\n",
      "52 is not a prime number\n",
      "53 is a prime number\n",
      "54 is not a prime number\n",
      "55 is not a prime number\n",
      "56 is not a prime number\n",
      "57 is not a prime number\n",
      "58 is not a prime number\n",
      "59 is a prime number\n",
      "60 is not a prime number\n",
      "61 is a prime number\n",
      "62 is not a prime number\n",
      "63 is not a prime number\n",
      "64 is not a prime number\n",
      "65 is not a prime number\n",
      "66 is not a prime number\n",
      "67 is a prime number\n",
      "68 is not a prime number\n",
      "69 is not a prime number\n",
      "70 is not a prime number\n",
      "71 is a prime number\n",
      "72 is not a prime number\n",
      "73 is a prime number\n",
      "74 is not a prime number\n",
      "75 is not a prime number\n",
      "76 is not a prime number\n",
      "77 is not a prime number\n",
      "78 is not a prime number\n",
      "79 is a prime number\n",
      "80 is not a prime number\n",
      "81 is not a prime number\n",
      "82 is not a prime number\n",
      "83 is a prime number\n",
      "84 is not a prime number\n",
      "85 is not a prime number\n",
      "86 is not a prime number\n",
      "87 is not a prime number\n",
      "88 is not a prime number\n",
      "89 is a prime number\n",
      "90 is not a prime number\n",
      "91 is not a prime number\n",
      "92 is not a prime number\n",
      "93 is not a prime number\n",
      "94 is not a prime number\n",
      "95 is not a prime number\n",
      "96 is not a prime number\n",
      "97 is a prime number\n",
      "98 is not a prime number\n",
      "99 is not a prime number\n",
      "100 is not a prime number\n",
      "101 is a prime number\n",
      "102 is not a prime number\n",
      "103 is a prime number\n",
      "104 is not a prime number\n",
      "105 is not a prime number\n",
      "106 is not a prime number\n",
      "107 is a prime number\n",
      "108 is not a prime number\n",
      "109 is a prime number\n",
      "110 is not a prime number\n",
      "111 is not a prime number\n",
      "112 is not a prime number\n",
      "113 is a prime number\n",
      "114 is not a prime number\n",
      "115 is not a prime number\n",
      "116 is not a prime number\n",
      "117 is not a prime number\n",
      "118 is not a prime number\n",
      "119 is not a prime number\n",
      "120 is not a prime number\n",
      "121 is not a prime number\n",
      "122 is not a prime number\n",
      "123 is not a prime number\n",
      "124 is not a prime number\n",
      "125 is not a prime number\n",
      "126 is not a prime number\n",
      "127 is a prime number\n",
      "128 is not a prime number\n",
      "129 is not a prime number\n",
      "130 is not a prime number\n",
      "131 is a prime number\n",
      "132 is not a prime number\n",
      "133 is not a prime number\n",
      "134 is not a prime number\n",
      "135 is not a prime number\n",
      "136 is not a prime number\n",
      "137 is a prime number\n",
      "138 is not a prime number\n",
      "139 is a prime number\n",
      "140 is not a prime number\n",
      "141 is not a prime number\n",
      "142 is not a prime number\n",
      "143 is not a prime number\n",
      "144 is not a prime number\n",
      "145 is not a prime number\n",
      "146 is not a prime number\n",
      "147 is not a prime number\n",
      "148 is not a prime number\n",
      "149 is a prime number\n",
      "150 is not a prime number\n",
      "151 is a prime number\n",
      "152 is not a prime number\n",
      "153 is not a prime number\n",
      "154 is not a prime number\n",
      "155 is not a prime number\n",
      "156 is not a prime number\n",
      "157 is a prime number\n",
      "158 is not a prime number\n",
      "159 is not a prime number\n",
      "160 is not a prime number\n",
      "161 is not a prime number\n",
      "162 is not a prime number\n",
      "163 is a prime number\n",
      "164 is not a prime number\n",
      "165 is not a prime number\n",
      "166 is not a prime number\n",
      "167 is a prime number\n",
      "168 is not a prime number\n",
      "169 is not a prime number\n",
      "170 is not a prime number\n",
      "171 is not a prime number\n",
      "172 is not a prime number\n",
      "173 is a prime number\n",
      "174 is not a prime number\n",
      "175 is not a prime number\n",
      "176 is not a prime number\n",
      "177 is not a prime number\n",
      "178 is not a prime number\n",
      "179 is a prime number\n",
      "180 is not a prime number\n",
      "181 is a prime number\n",
      "182 is not a prime number\n",
      "183 is not a prime number\n",
      "184 is not a prime number\n",
      "185 is not a prime number\n",
      "186 is not a prime number\n",
      "187 is not a prime number\n",
      "188 is not a prime number\n",
      "189 is not a prime number\n",
      "190 is not a prime number\n",
      "191 is a prime number\n",
      "192 is not a prime number\n",
      "193 is a prime number\n",
      "194 is not a prime number\n",
      "195 is not a prime number\n",
      "196 is not a prime number\n",
      "197 is a prime number\n",
      "198 is not a prime number\n",
      "199 is a prime number\n",
      "200 is not a prime number\n"
     ]
    }
   ],
   "source": [
    "def is_prime(n):\n",
    "    if n <= 2:\n",
    "        return False\n",
    "    for i in range(2, int(n**0.5) + 1):  # Check divisors up to sqrt(n)\n",
    "        if n % i == 0:\n",
    "            return False\n",
    "    return True\n",
    "\n",
    "# Check numbers from 1 to 200\n",
    "for num in range(1, 201):\n",
    "    if is_prime(num):\n",
    "        print(f\"{num} is a prime number\")\n",
    "    else:\n",
    "        print(f\"{num} is not a prime number\")"
   ]
  },
  {
   "cell_type": "markdown",
   "id": "eadf22d5-2291-4045-afa3-da7b2e31a53c",
   "metadata": {},
   "source": [
    "Question-5 Create an iterator class in Python that generates the Fibonacci sequence up to a specified number of\n",
    "terms."
   ]
  },
  {
   "cell_type": "code",
   "execution_count": 2,
   "id": "9c0c8a7b-816a-4c2b-84e8-9d720b1a12a5",
   "metadata": {},
   "outputs": [
    {
     "name": "stdout",
     "output_type": "stream",
     "text": [
      "0\n",
      "1\n",
      "1\n",
      "2\n",
      "3\n",
      "5\n",
      "8\n",
      "13\n",
      "21\n",
      "34\n"
     ]
    }
   ],
   "source": [
    "class FibonacciIterator:\n",
    "    def __init__(self, n_terms):\n",
    "        self.n_terms = n_terms  # Number of terms in the sequence\n",
    "        self.current = 0       # Index of the current term\n",
    "        self.a, self.b = 0, 1  # Starting values for the Fibonacci sequence\n",
    "\n",
    "    def __iter__(self):\n",
    "        return self\n",
    "\n",
    "    def __next__(self):\n",
    "        if self.current >= self.n_terms:\n",
    "            raise StopIteration  # Stop iteration when the sequence ends\n",
    "        if self.current == 0:\n",
    "            self.current += 1\n",
    "            return self.a  # Return the first term (0)\n",
    "        elif self.current == 1:\n",
    "            self.current += 1\n",
    "            return self.b  # Return the second term (1)\n",
    "        else:\n",
    "            # Calculate the next term in the sequence\n",
    "            next_value = self.a + self.b\n",
    "            self.a, self.b = self.b, next_value  # Update for the next iteration\n",
    "            self.current += 1\n",
    "            return next_value\n",
    "\n",
    "\n",
    "# Example usage:\n",
    "n_terms = 10  # Specify the number of terms\n",
    "fib_iterator = FibonacciIterator(n_terms)\n",
    "\n",
    "for fib in fib_iterator:\n",
    "    print(fib)\n"
   ]
  },
  {
   "cell_type": "markdown",
   "id": "d299de2f-0e5a-477b-a977-88c703c35992",
   "metadata": {},
   "source": [
    "Question-6 Write a generator function in Python that yields the powers of 2 up to a given exponent."
   ]
  },
  {
   "cell_type": "code",
   "execution_count": 7,
   "id": "c78d09a0-0e6e-4fe3-ae38-561909391b70",
   "metadata": {},
   "outputs": [
    {
     "name": "stdout",
     "output_type": "stream",
     "text": [
      "2\n",
      "4\n",
      "8\n",
      "16\n",
      "32\n"
     ]
    }
   ],
   "source": [
    "def powers_(exponent):\n",
    "    for i in range(1,exponent + 1 ):\n",
    "        yield 2 ** i\n",
    "\n",
    "exponent = 5\n",
    "for power in powers_(exponent):\n",
    "    print(power)\n",
    "\n",
    "\n",
    "\n"
   ]
  },
  {
   "cell_type": "markdown",
   "id": "a744f6d2-0a0d-4489-a18e-30434c0a027f",
   "metadata": {},
   "source": [
    "Question-7 Implement a generator function that reads a file line by line and yields each line as a string."
   ]
  },
  {
   "cell_type": "code",
   "execution_count": 12,
   "id": "1ee497a3-8e6e-4d24-b13c-47500fc2d13c",
   "metadata": {},
   "outputs": [],
   "source": [
    "def read_file_line_by_line(file_path):\n",
    "    with open(file_path, 'r') as file:\n",
    "        for line in file:\n",
    "            yield line.strip()  # .strip() removes any leading/trailing whitespace or newline characters"
   ]
  },
  {
   "cell_type": "markdown",
   "id": "5dfa0be7-8b4c-458b-9753-4cbeb061643e",
   "metadata": {},
   "source": [
    "Question-8 Use a lambda function in Python to sort a list of tuples based on the second element of each tuple"
   ]
  },
  {
   "cell_type": "code",
   "execution_count": 13,
   "id": "80c7a048-1478-4100-b3be-3f56da67c75b",
   "metadata": {},
   "outputs": [
    {
     "name": "stdout",
     "output_type": "stream",
     "text": [
      "[(5, 0), (4, 1), (2, 2), (1, 3)]\n"
     ]
    }
   ],
   "source": [
    "# Sample list of tuples\n",
    "data = [(1, 3), (4, 1), (2, 2), (5, 0)]\n",
    "\n",
    "# Sorting using a lambda function\n",
    "sorted_data = sorted(data, key=lambda x: x[1])\n",
    "\n",
    "print(sorted_data)\n"
   ]
  },
  {
   "cell_type": "markdown",
   "id": "083798cd-11dc-4bfe-ab6c-3201b1955482",
   "metadata": {},
   "source": [
    "Question-9 Write a Python program that uses `map()` to convert a list of temperatures from Celsius to Fahrenheit"
   ]
  },
  {
   "cell_type": "code",
   "execution_count": 5,
   "id": "c9097b35-e4b8-4702-8a0f-12277a32684f",
   "metadata": {},
   "outputs": [
    {
     "name": "stdout",
     "output_type": "stream",
     "text": [
      "Celsius: [0, 20, 37, 100]\n",
      "Fahrenheit: [32.0, 68.0, 98.6, 212.0]\n"
     ]
    }
   ],
   "source": [
    "# Function to convert Celsius to Fahrenheit\n",
    "def celsius_to_fahrenheit(celsius):\n",
    "    return (celsius * 9/5) + 32\n",
    "\n",
    "# List of temperatures in Celsius\n",
    "celsius_temperatures = [0, 20, 37, 100]\n",
    "\n",
    "# Using map to convert to Fahrenheit\n",
    "fahrenheit_temperatures = list(map(celsius_to_fahrenheit, celsius_temperatures))\n",
    "\n",
    "# Output the result\n",
    "print(\"Celsius:\", celsius_temperatures)\n",
    "print(\"Fahrenheit:\", fahrenheit_temperatures)\n",
    "\n"
   ]
  },
  {
   "cell_type": "markdown",
   "id": "6b45681e-fb59-4ffb-bd4e-0be77df6b399",
   "metadata": {},
   "source": [
    "Question-10 Create a Python program that uses `filter()` to remove all the vowels from a given string."
   ]
  },
  {
   "cell_type": "code",
   "execution_count": 14,
   "id": "61de84ea-fa0a-4f94-bec1-825e6c40e733",
   "metadata": {},
   "outputs": [
    {
     "name": "stdout",
     "output_type": "stream",
     "text": [
      "Original String: Hello, how are you?\n",
      "String without vowels: Hll, hw r y?\n"
     ]
    }
   ],
   "source": [
    "# Function to check if a character is not a vowel\n",
    "def is_not_vowel(char):\n",
    "    vowels = 'aeiouAEIOU'\n",
    "    return char not in vowels\n",
    "\n",
    "# Given string\n",
    "input_string = \"Hello, how are you?\"\n",
    "\n",
    "# Using filter to remove vowels\n",
    "filtered_string = ''.join(filter(is_not_vowel, input_string))\n",
    "\n",
    "# Output the result\n",
    "print(\"Original String:\", input_string)\n",
    "print(\"String without vowels:\", filtered_string)\n",
    "\n"
   ]
  },
  {
   "cell_type": "markdown",
   "id": "89c6ac00-b024-45a3-a8b0-0e01e2f77608",
   "metadata": {},
   "source": [
    "Question-11 Imagine an accounting routine used in a book shop. It works on a list with sublists, which look like this:\n",
    "\n",
    "Write a Python program, which returns a list with 2-tuples. Each tuple consists of the order number and the\n",
    "product of the price per item and the quantity. The product should be increased by 10,- € if the value of the\n",
    "order is smaller than 100,00 €.\n",
    "\n",
    "Write a Python program using lambda and map"
   ]
  },
  {
   "cell_type": "code",
   "execution_count": 8,
   "id": "b8d6d464-8792-4f06-b9f6-a96c3d976e7b",
   "metadata": {},
   "outputs": [
    {
     "name": "stdout",
     "output_type": "stream",
     "text": [
      "[(34587, 163.8), (98762, 284.0), (77226, 108.85000000000001), (88112, 84.97)]\n"
     ]
    }
   ],
   "source": [
    "# Data\n",
    "orders = [\n",
    "    (34587, \"Learning Python\", \"Mark Lutz\", 4, 40.95),\n",
    "    (98762, \"Programming Python\", \"Mark Lutz\", 5, 56.80),\n",
    "    (77226, \"Head First Python\", \"Paul Barry\", 3, 32.95),\n",
    "    (88112, \"Einführung in Python3\", \"Bernd Klein\", 3, 24.99)\n",
    "]\n",
    "\n",
    "# Function to calculate total order value\n",
    "order_value = lambda order: (order[0], order[3] * order[4] + 10 if order[3] * order[4] < 100 else order[3] * order[4])\n",
    "\n",
    "# Calculate the result using map\n",
    "result = list(map(order_value, orders))\n",
    "\n",
    "# Print the result\n",
    "print(result)\n"
   ]
  },
  {
   "cell_type": "code",
   "execution_count": null,
   "id": "b9231c8a-1830-4bfe-9666-f3c48c031818",
   "metadata": {},
   "outputs": [],
   "source": []
  }
 ],
 "metadata": {
  "kernelspec": {
   "display_name": "Python 3 (ipykernel)",
   "language": "python",
   "name": "python3"
  },
  "language_info": {
   "codemirror_mode": {
    "name": "ipython",
    "version": 3
   },
   "file_extension": ".py",
   "mimetype": "text/x-python",
   "name": "python",
   "nbconvert_exporter": "python",
   "pygments_lexer": "ipython3",
   "version": "3.12.7"
  }
 },
 "nbformat": 4,
 "nbformat_minor": 5
}
